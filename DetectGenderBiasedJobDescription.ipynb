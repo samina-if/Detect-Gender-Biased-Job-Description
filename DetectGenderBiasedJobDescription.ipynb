# Install the necessary libraries
!pip install gradio transformers torch nltk
!pip install gradio
!pip install transformers
!pip install torch
!pip install nltk
# Import necessary libraries
import gradio as gr
import torch
from transformers import pipeline
from nltk.tokenize import word_tokenize

# Download NLTK data
import nltk
nltk.download('punkt')

# Initialize Hugging Face transformers for sentiment analysis and bias detection
sentiment_pipeline = pipeline("sentiment-analysis")
gender_bias_model = pipeline("zero-shot-classification", model="facebook/bart-large-mnli")

# Gender-specific words to detect bias
masculine_words = ["man","men","sir","gentleman","aggressive", "competitive", "dominant", "decisive", "leader", "strong", "confident", "assertive"]
feminine_words = ["female","lady","madam","cooperative", "nurturing", "supportive", "compassionate", "gentle", "caring", "empathic", "friendly"]

# Function to preprocess the text (tokenize)
def preprocess_text(text):
    return word_tokenize(text.lower())

# Function to detect gendered language and sentiment in a job description
def detect_bias_and_sentiment(job_description):
    # Tokenize and count gendered language
    words = preprocess_text(job_description)
    masculine_count = sum([word in masculine_words for word in words])
    feminine_count = sum([word in feminine_words for word in words])

    # Detect gender bias based on word counts
    if masculine_count > feminine_count:
        gender_bias_feedback = "The job description contains more masculine-coded language."
    elif feminine_count > masculine_count:
        gender_bias_feedback = "The job description contains more feminine-coded language."
    else:
        gender_bias_feedback = "The job description appears neutral in gender-coded language."

    # Perform sentiment analysis
    sentiment_result = sentiment_pipeline(job_description)
    sentiment_feedback = f"Sentiment: {sentiment_result[0]['label']} with a score of {sentiment_result[0]['score']:.2f}"

    # Perform zero-shot classification to detect gender bias (can be extended for other types of bias)
    zero_shot_result = gender_bias_model(job_description, candidate_labels=["male", "female", "neutral"])
    bias_label = zero_shot_result['labels'][0]
    bias_score = zero_shot_result['scores'][0]

    # Generate bias feedback and score
    bias_feedback = f"Bias detection (zero-shot classification): {bias_label.capitalize()} bias with a score of {bias_score:.2f}"

    return gender_bias_feedback, sentiment_feedback, bias_feedback

# Create Gradio interface
def gradio_interface(job_description):
    gender_bias_feedback, sentiment_feedback, bias_feedback = detect_bias_and_sentiment(job_description)
    return gender_bias_feedback, sentiment_feedback, bias_feedback

# Set the Gradio interface with labels for outputs
iface = gr.Interface(
    fn=gradio_interface,
    inputs="text",  # Input type is text box
    outputs=[
        gr.Textbox(label="Gender Bias Feedback"),  # First output: Gender Bias Feedback
        gr.Textbox(label="Sentiment Feedback"),  # Second output: Sentiment Feedback
        gr.Textbox(label="Bias Detection Feedback")  # Third output: Bias Detection Feedback
    ],
    title="Job Description Gender Bias and Sentiment Analysis",
    description="This tool analyzes job descriptions for gender bias and provides feedback on the sentiment.",
    theme="compact"  # You can try other themes like "huggingface", or "default"
)

# Customize the appearance with custom CSS (using a lilac and purple color theme)
iface.css = """
    .gradio-container {
        background-color: #F3E5F5;  /* Lilac background */
    }
    .gradio-title {
        color: #6A1B9A;  /* Purple title font */
        font-family: 'Arial', sans-serif;
    }
    .gradio-description {
        color: #6A1B9A;  /* Purple description font */
    }
    .gradio-input textarea {
        background-color: #F8E1F4;  /* Light lilac for input box */
        color: #6A1B9A;  /* Purple font for input text */
    }
    .gradio-output textarea {
        background-color: #F8E1F4;  /* Light lilac for output box */
        color: #6A1B9A;  /* Purple font for output text */
    }
"""

# Launch the Gradio interface
iface.launch(share=True)
